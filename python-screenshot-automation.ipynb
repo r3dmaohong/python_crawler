{
 "cells": [
  {
   "cell_type": "code",
   "execution_count": null,
   "metadata": {},
   "outputs": [],
   "source": [
    "import os\n",
    "os.getcwd()"
   ]
  },
  {
   "cell_type": "code",
   "execution_count": null,
   "metadata": {
    "scrolled": false
   },
   "outputs": [],
   "source": [
    "!docker run -d -p 4445:4444 selenium/standalone-chrome"
   ]
  },
  {
   "cell_type": "code",
   "execution_count": 1,
   "metadata": {},
   "outputs": [],
   "source": [
    "from selenium import webdriver\n",
    "from selenium.webdriver.common.desired_capabilities import DesiredCapabilities\n",
    "\n",
    "options = webdriver.ChromeOptions()\n",
    "URL = 'http://localhost:4445/wd/hub'\n",
    "options.add_argument('--headless')\n",
    "options.add_argument(\"--no-sandbox\")\n",
    "options.add_argument(\"--disable-gpu\")\n",
    "options.add_argument(\"--remote-debugin-port=9222\")\n",
    "options.add_argument(\"--screen-size=1440x900\")\n",
    "\n",
    "browser = webdriver.Remote(command_executor=URL,\n",
    "                          desired_capabilities=options.to_capabilities())"
   ]
  },
  {
   "cell_type": "code",
   "execution_count": 2,
   "metadata": {},
   "outputs": [],
   "source": [
    "import os\n",
    "if not os.path.exists('output'):\n",
    "    os.makedirs('output')\n",
    "if not os.path.exists('tmp'):\n",
    "    os.makedirs('tmp')"
   ]
  },
  {
   "cell_type": "code",
   "execution_count": 4,
   "metadata": {},
   "outputs": [
    {
     "name": "stdout",
     "output_type": "stream",
     "text": [
      "over\n"
     ]
    }
   ],
   "source": [
    "# customized for 1111 careermaster\n",
    "#ref: https://stackoverflow.com/questions/15018372/how-to-take-partial-screenshot-with-selenium-webdriver-in-python\n",
    "from selenium import webdriver\n",
    "from PIL import Image\n",
    "\n",
    "try:\n",
    "    from StringIO import StringIO\n",
    "except ImportError:\n",
    "    from io import StringIO\n",
    "from io import BytesIO\n",
    "    \n",
    "verbose = 0\n",
    "\n",
    "#browser = webdriver.Firefox()\n",
    "url = 'https://www.1111.com.tw/careermaster/detail/130102'\n",
    "browser.get(url)\n",
    "\n",
    "browser.execute_script(\"return document.getElementsByClassName('topLinkFrame')[0].style.display = 'none';\")\n",
    "browser.execute_script(\"return document.getElementsByClassName('clearfix')[0].style.display = 'none';\")\n",
    "browser.execute_script(\"return document.getElementsByClassName('rd_header')[0].style.display = 'none';\")\n",
    "# from here http://stackoverflow.com/questions/1145850/how-to-get-height-of-entire-document-with-javascript\n",
    "js = 'return Math.max( document.body.scrollHeight, document.body.offsetHeight,  document.documentElement.clientHeight,  document.documentElement.scrollHeight,  document.documentElement.offsetHeight);'\n",
    "\n",
    "scrollheight = browser.execute_script(js)\n",
    "\n",
    "if verbose > 0: \n",
    "    print(scrollheight)\n",
    "\n",
    "slices = []\n",
    "offset = 0\n",
    "while offset < scrollheight:\n",
    "    if verbose > 0: \n",
    "        print(offset)\n",
    "    #if offset!=0:\n",
    "    #    browser.execute_script(\"return document.getElementsByClassName('rd_header')[0].style.display = 'none';\")\n",
    "\n",
    "    browser.execute_script(\"window.scrollTo(0, %s);\" % offset)\n",
    "    img = Image.open(BytesIO(browser.get_screenshot_as_png()))\n",
    "    offset += (img.size[1]-15)\n",
    "    slices.append(img)\n",
    "\n",
    "    if verbose > 0:\n",
    "        browser.get_screenshot_as_file('%s/screen_%s.png' % ('/tmp', offset))\n",
    "        print(scrollheight)\n",
    "\n",
    "\n",
    "screenshot = Image.new('RGB', (slices[0].size[0], scrollheight))\n",
    "offset = 0\n",
    "for img in slices:\n",
    "    screenshot.paste(img, (0, offset))\n",
    "    offset += (img.size[1]-15)\n",
    "\n",
    "screenshot.save('output/test.png')\n",
    "print('over')"
   ]
  },
  {
   "cell_type": "code",
   "execution_count": null,
   "metadata": {},
   "outputs": [],
   "source": []
  }
 ],
 "metadata": {
  "kernelspec": {
   "display_name": "Python 3",
   "language": "python",
   "name": "python3"
  },
  "language_info": {
   "codemirror_mode": {
    "name": "ipython",
    "version": 3
   },
   "file_extension": ".py",
   "mimetype": "text/x-python",
   "name": "python",
   "nbconvert_exporter": "python",
   "pygments_lexer": "ipython3",
   "version": "3.6.3"
  }
 },
 "nbformat": 4,
 "nbformat_minor": 2
}
